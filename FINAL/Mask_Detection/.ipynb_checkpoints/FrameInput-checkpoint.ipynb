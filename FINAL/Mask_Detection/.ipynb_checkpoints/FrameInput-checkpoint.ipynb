{
 "cells": [
  {
   "cell_type": "code",
   "execution_count": 3,
   "metadata": {
    "colab": {
     "base_uri": "https://localhost:8080/"
    },
    "id": "y84z-yQdVWfP",
    "outputId": "cf0ce176-fd45-49ab-fcc2-87939a51627f"
   },
   "outputs": [
    {
     "ename": "OSError",
     "evalue": "No file or directory found at J:/11th Semester/CVPR/FINAL/Assignment-2/SavedFiles/model.hdf5",
     "output_type": "error",
     "traceback": [
      "\u001b[1;31m---------------------------------------------------------------------------\u001b[0m",
      "\u001b[1;31mOSError\u001b[0m                                   Traceback (most recent call last)",
      "Cell \u001b[1;32mIn[3], line 12\u001b[0m\n\u001b[0;32m      9\u001b[0m faceCascade \u001b[38;5;241m=\u001b[39m cv2\u001b[38;5;241m.\u001b[39mCascadeClassifier(\u001b[38;5;124m'\u001b[39m\u001b[38;5;124mJ:/11th Semester/CVPR/FINAL/Assignment-2/SavedFiles/haarcascade_frontalface_alt2.xml\u001b[39m\u001b[38;5;124m'\u001b[39m)\n\u001b[0;32m     11\u001b[0m model_path \u001b[38;5;241m=\u001b[39m \u001b[38;5;124m'\u001b[39m\u001b[38;5;124mJ:/11th Semester/CVPR/FINAL/Assignment-2/SavedFiles/model.hdf5\u001b[39m\u001b[38;5;124m'\u001b[39m\n\u001b[1;32m---> 12\u001b[0m model \u001b[38;5;241m=\u001b[39m \u001b[43mload_model\u001b[49m\u001b[43m(\u001b[49m\u001b[43mmodel_path\u001b[49m\u001b[43m)\u001b[49m\n\u001b[0;32m     14\u001b[0m \u001b[38;5;28;01mdef\u001b[39;00m \u001b[38;5;21mface_mask_detector\u001b[39m(frame):\n\u001b[0;32m     15\u001b[0m   \u001b[38;5;66;03m# frame = cv2.imread(fileName)\u001b[39;00m\n\u001b[0;32m     16\u001b[0m   gray \u001b[38;5;241m=\u001b[39m cv2\u001b[38;5;241m.\u001b[39mcvtColor(frame, cv2\u001b[38;5;241m.\u001b[39mCOLOR_BGR2GRAY)\n",
      "File \u001b[1;32mI:\\Anaconda\\envs\\tf\\lib\\site-packages\\keras\\utils\\traceback_utils.py:67\u001b[0m, in \u001b[0;36mfilter_traceback.<locals>.error_handler\u001b[1;34m(*args, **kwargs)\u001b[0m\n\u001b[0;32m     65\u001b[0m \u001b[38;5;28;01mexcept\u001b[39;00m \u001b[38;5;167;01mException\u001b[39;00m \u001b[38;5;28;01mas\u001b[39;00m e:  \u001b[38;5;66;03m# pylint: disable=broad-except\u001b[39;00m\n\u001b[0;32m     66\u001b[0m   filtered_tb \u001b[38;5;241m=\u001b[39m _process_traceback_frames(e\u001b[38;5;241m.\u001b[39m__traceback__)\n\u001b[1;32m---> 67\u001b[0m   \u001b[38;5;28;01mraise\u001b[39;00m e\u001b[38;5;241m.\u001b[39mwith_traceback(filtered_tb) \u001b[38;5;28;01mfrom\u001b[39;00m \u001b[38;5;28;01mNone\u001b[39;00m\n\u001b[0;32m     68\u001b[0m \u001b[38;5;28;01mfinally\u001b[39;00m:\n\u001b[0;32m     69\u001b[0m   \u001b[38;5;28;01mdel\u001b[39;00m filtered_tb\n",
      "File \u001b[1;32mI:\\Anaconda\\envs\\tf\\lib\\site-packages\\keras\\saving\\save.py:209\u001b[0m, in \u001b[0;36mload_model\u001b[1;34m(filepath, custom_objects, compile, options)\u001b[0m\n\u001b[0;32m    207\u001b[0m \u001b[38;5;28;01mif\u001b[39;00m \u001b[38;5;28misinstance\u001b[39m(filepath, \u001b[38;5;28mstr\u001b[39m):\n\u001b[0;32m    208\u001b[0m   \u001b[38;5;28;01mif\u001b[39;00m \u001b[38;5;129;01mnot\u001b[39;00m tf\u001b[38;5;241m.\u001b[39mio\u001b[38;5;241m.\u001b[39mgfile\u001b[38;5;241m.\u001b[39mexists(filepath):\n\u001b[1;32m--> 209\u001b[0m     \u001b[38;5;28;01mraise\u001b[39;00m \u001b[38;5;167;01mIOError\u001b[39;00m(\u001b[38;5;124mf\u001b[39m\u001b[38;5;124m'\u001b[39m\u001b[38;5;124mNo file or directory found at \u001b[39m\u001b[38;5;132;01m{\u001b[39;00mfilepath\u001b[38;5;132;01m}\u001b[39;00m\u001b[38;5;124m'\u001b[39m)\n\u001b[0;32m    210\u001b[0m   \u001b[38;5;28;01mif\u001b[39;00m saving_utils\u001b[38;5;241m.\u001b[39mis_hdf5_filepath(filepath) \u001b[38;5;129;01mand\u001b[39;00m h5py \u001b[38;5;129;01mis\u001b[39;00m \u001b[38;5;28;01mNone\u001b[39;00m:\n\u001b[0;32m    211\u001b[0m     \u001b[38;5;28;01mraise\u001b[39;00m \u001b[38;5;167;01mImportError\u001b[39;00m(\n\u001b[0;32m    212\u001b[0m         \u001b[38;5;124m'\u001b[39m\u001b[38;5;124mFilepath looks like a hdf5 file but h5py is not available.\u001b[39m\u001b[38;5;124m'\u001b[39m\n\u001b[0;32m    213\u001b[0m         \u001b[38;5;124mf\u001b[39m\u001b[38;5;124m'\u001b[39m\u001b[38;5;124m filepath=\u001b[39m\u001b[38;5;132;01m{\u001b[39;00mfilepath\u001b[38;5;132;01m}\u001b[39;00m\u001b[38;5;124m'\u001b[39m)\n",
      "\u001b[1;31mOSError\u001b[0m: No file or directory found at J:/11th Semester/CVPR/FINAL/Assignment-2/SavedFiles/model.hdf5"
     ]
    }
   ],
   "source": [
    "import cv2\n",
    "import os\n",
    "from tensorflow.keras.preprocessing.image import img_to_array\n",
    "from tensorflow.keras.applications.mobilenet_v2 import preprocess_input\n",
    "from keras.models import load_model\n",
    "import numpy as np\n",
    "from google.colab.patches import cv2_imshow\n",
    "\n",
    "faceCascade = cv2.CascadeClassifier('J:/11th Semester/CVPR/FINAL/Assignment-2/SavedFiles/haarcascade_frontalface_alt2.xml')\n",
    "\n",
    "model_path = 'J:/11th Semester/CVPR/FINAL/Assignment-2/SavedFiles/model.hdf5'\n",
    "model = load_model(model_path)\n",
    "\n",
    "def face_mask_detector(frame):\n",
    "  # frame = cv2.imread(fileName)\n",
    "  gray = cv2.cvtColor(frame, cv2.COLOR_BGR2GRAY)\n",
    "  faces = faceCascade.detectMultiScale(gray,\n",
    "                                        scaleFactor=1.1,\n",
    "                                        minNeighbors=5,\n",
    "                                        minSize=(60, 60),\n",
    "                                        flags=cv2.CASCADE_SCALE_IMAGE)\n",
    "  \n",
    "  \n",
    "  \n",
    "  \n",
    "  \n",
    "  faces_list=[]\n",
    "  preds= []\n",
    "  for (x, y, w, h) in faces:\n",
    "      face_frame = frame[y:y+h,x:x+w]\n",
    "      face_frame = cv2.cvtColor(face_frame, cv2.COLOR_BGR2RGB)\n",
    "      face_frame = cv2.resize(face_frame, (224, 224))\n",
    "      face_frame = img_to_array(face_frame)\n",
    "      face_frame = np.expand_dims(face_frame, axis=0)\n",
    "      face_frame =  preprocess_input(face_frame)\n",
    "      faces_list=[]\n",
    "      faces_list.append(face_frame)\n",
    "      if len(faces_list)>0:\n",
    "          preds = model.predict(faces_list)\n",
    "      for pred in preds:\n",
    "          (mask, withoutMask) = pred\n",
    "      label = \"Mask\" if mask > withoutMask else \"No Mask\"\n",
    "      color = (0, 255, 0) if label == \"Mask\" else (0, 0, 255)\n",
    "      label = \"{}: {:.2f}%\".format(label, max(mask, withoutMask) * 100)\n",
    "      cv2.putText(frame, label, (x, y- 10),\n",
    "                  cv2.FONT_HERSHEY_SIMPLEX, 1, color, 2)\n",
    "\n",
    "      cv2.rectangle(frame, (x, y), (x + w, y + h),color, 3)\n",
    "  # cv2_imshow(frame)\n",
    "  return frame\n",
    "\n",
    "# input_image = cv2.imread(\"/content/drive/MyDrive/Assignment asset/img-01.jpg\")\n",
    "# output = face_mask_detector(input_image)\n",
    "# cv2_imshow(output)\n",
    "\n",
    "# input_image = cv2.imread(\"/content/drive/MyDrive/Assignment asset/img-02.jpg\")\n",
    "# output = face_mask_detector(input_image)\n",
    "# cv2_imshow(output)\n",
    "\n",
    "cap = cv2.VideoCapture('J:\\11th Semester\\CVPR\\FINAL\\Assignment-2\\VideoFile/Wearing_a_mask.mp4')\n",
    "ret, frame = cap.read()\n",
    "frame_height, frame_width, _ = frame.shape\n",
    "out = cv2.VideoWriter('output.avi',cv2.VideoWriter_fourcc('M','J','P','G'), 10, (frame_width,frame_height))\n",
    "print(\"Processing Video...\")\n",
    "while cap.isOpened():\n",
    "  ret, frame = cap.read()\n",
    "  if not ret:\n",
    "    out.release()\n",
    "    break\n",
    "  output = face_mask_detector(frame)\n",
    "  out.write(output)\n",
    "out.release()\n",
    "print(\"Done processing video\")"
   ]
  },
  {
   "cell_type": "code",
   "execution_count": null,
   "metadata": {},
   "outputs": [],
   "source": []
  }
 ],
 "metadata": {
  "accelerator": "GPU",
  "colab": {
   "gpuType": "T4",
   "provenance": []
  },
  "gpuClass": "standard",
  "kernelspec": {
   "display_name": "Python (Tensorflow)",
   "language": "python",
   "name": "tf"
  },
  "language_info": {
   "codemirror_mode": {
    "name": "ipython",
    "version": 3
   },
   "file_extension": ".py",
   "mimetype": "text/x-python",
   "name": "python",
   "nbconvert_exporter": "python",
   "pygments_lexer": "ipython3",
   "version": "3.8.17"
  }
 },
 "nbformat": 4,
 "nbformat_minor": 1
}
