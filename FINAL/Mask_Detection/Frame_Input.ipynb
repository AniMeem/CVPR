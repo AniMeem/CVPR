{
 "cells": [
  {
   "cell_type": "code",
   "execution_count": null,
   "id": "8a284fc1",
   "metadata": {},
   "outputs": [
    {
     "name": "stdout",
     "output_type": "stream",
     "text": [
      "Processing Video...\n"
     ]
    }
   ],
   "source": [
    "import cv2\n",
    "import os\n",
    "from tensorflow.keras.preprocessing.image import img_to_array\n",
    "from tensorflow.keras.applications.mobilenet_v2 import preprocess_input\n",
    "from keras.models import load_model\n",
    "import numpy as np\n",
    "\n",
    "faceCascade = cv2.CascadeClassifier('J:/11th Semester/CVPR/FINAL/Mask_Detection/SavedFiles/haarcascade_frontalface_alt2.xml')\n",
    "\n",
    "model_path = 'J:/11th Semester/CVPR/FINAL/Mask_Detection/SavedFiles/model.hdf5'\n",
    "model = load_model(model_path)\n",
    "\n",
    "def face_mask_detector(frame):\n",
    "  # frame = cv2.imread(fileName)\n",
    "  gray = cv2.cvtColor(frame, cv2.COLOR_BGR2GRAY)\n",
    "  faces = faceCascade.detectMultiScale(gray,\n",
    "                                        scaleFactor=1.1,\n",
    "                                        minNeighbors=5,\n",
    "                                        minSize=(60, 60),\n",
    "                                        flags=cv2.CASCADE_SCALE_IMAGE)\n",
    "\n",
    "  faces_list=[]\n",
    "  preds= []\n",
    "  for (x, y, w, h) in faces:\n",
    "      face_frame = frame[y:y+h,x:x+w]\n",
    "      face_frame = cv2.cvtColor(face_frame, cv2.COLOR_BGR2RGB)\n",
    "      face_frame = cv2.resize(face_frame, (224, 224))\n",
    "      face_frame = img_to_array(face_frame)\n",
    "      face_frame = np.expand_dims(face_frame, axis=0)\n",
    "      face_frame =  preprocess_input(face_frame)\n",
    "      faces_list=[]\n",
    "      faces_list.append(face_frame)\n",
    "      if len(faces_list)>0:\n",
    "          preds = model.predict(faces_list)\n",
    "      for pred in preds:\n",
    "          (mask, withoutMask) = pred\n",
    "      label = \"Mask\" if mask > withoutMask else \"No Mask\"\n",
    "      color = (0, 255, 0) if label == \"Mask\" else (0, 0, 255)\n",
    "      label = \"{}: {:.2f}%\".format(label, max(mask, withoutMask) * 100)\n",
    "      cv2.putText(frame, label, (x, y- 10),\n",
    "                  cv2.FONT_HERSHEY_SIMPLEX, 1, color, 2)\n",
    "\n",
    "      cv2.rectangle(frame, (x, y), (x + w, y + h),color, 3)\n",
    "  # cv2_imshow(frame)\n",
    "  return frame\n",
    "\n",
    "output_video_path = 'J:/11th Semester/CVPR/FINAL/Mask_Detection/VideoOutput/output.avi'\n",
    "cap = cv2.VideoCapture('J:/11th Semester/CVPR/FINAL/Mask_Detection/VideoFile/Wearing_a_mask.mp4')\n",
    "ret, frame = cap.read()\n",
    "frame_height, frame_width, _ = frame.shape\n",
    "\n",
    "# Create the VideoWriter object with the specified output path\n",
    "out = cv2.VideoWriter(output_video_path, cv2.VideoWriter_fourcc('M','J','P','G'), 10, (frame_width, frame_height))\n",
    "\n",
    "print(\"Processing Video...\")\n",
    "while cap.isOpened():\n",
    "    ret, frame = cap.read()\n",
    "    if not ret:\n",
    "        out.release()\n",
    "        break\n",
    "    output = face_mask_detector(frame)\n",
    "    out.write(output)\n",
    "\n",
    "out.release()\n",
    "print(\"Done processing video\")"
   ]
  },
  {
   "cell_type": "code",
   "execution_count": null,
   "id": "59e9f9e3",
   "metadata": {},
   "outputs": [],
   "source": []
  }
 ],
 "metadata": {
  "kernelspec": {
   "display_name": "Python (Tensorflow)",
   "language": "python",
   "name": "tf"
  },
  "language_info": {
   "codemirror_mode": {
    "name": "ipython",
    "version": 3
   },
   "file_extension": ".py",
   "mimetype": "text/x-python",
   "name": "python",
   "nbconvert_exporter": "python",
   "pygments_lexer": "ipython3",
   "version": "3.8.17"
  }
 },
 "nbformat": 4,
 "nbformat_minor": 5
}
